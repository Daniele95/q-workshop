{
 "cells": [
  {
   "cell_type": "markdown",
   "metadata": {
    "raw_mimetype": "text/latex"
   },
   "source": [
    "# Bell's States\n",
    "\n",
    "This notebook is thought to play with Bell's States and entanglement using Qiskit tools. Let's load the modules we need. "
   ]
  },
  {
   "cell_type": "code",
   "execution_count": null,
   "metadata": {},
   "outputs": [],
   "source": [
    "# pacchetti di visualizzazione e numerici \n",
    "import matplotlib.pyplot as plt\n",
    "%matplotlib inline\n",
    "import numpy as np\n",
    "\n",
    "# importiamo il Qiskit\n",
    "from qiskit import QuantumCircuit, QuantumRegister, ClassicalRegister\n",
    "from qiskit import Aer, IBMQ, execute\n",
    "\n",
    "# importiamo i tool di grafica del Qiskit\n",
    "from qiskit.tools.visualization import matplotlib_circuit_drawer as circuit_drawer\n",
    "from qiskit.tools.visualization import plot_histogram, qx_color_scheme, plot_state_city, plot_bloch_multivector, plot_state_paulivec, plot_state_hinton, plot_state_qsphere"
   ]
  },
  {
   "cell_type": "markdown",
   "metadata": {},
   "source": [
    "## Measuring Bell's States\n",
    "### Reduced version of the Notebook by:\n",
    "Jay Gambetta, Antonio Córcoles, Andrew Cross, Anna Phan\n",
    "\n",
    "We want to create Bell's States and measure them in different basis. To do this we will use the Aer qasm simulator.\n",
    "**NB** if you exit from the session or if you need to update your API Token then uncomment the following line of code accordingly.\n"
   ]
  },
  {
   "cell_type": "code",
   "execution_count": null,
   "metadata": {},
   "outputs": [],
   "source": [
    "backend = Aer.get_backend('qasm_simulator') # select the qasm simulator\n",
    "\n",
    "# to use a real processor:\n",
    "#IBMQ.save_account('')   \n",
    "#IBMQ.load_accounts()\n",
    "#from qiskit.providers.ibmq import least_busy\n",
    "#backend = least_busy(IBMQ.backends(operational=True, simulator=False))\n",
    "#print(\"the best backend is \" + backend.name())"
   ]
  },
  {
   "cell_type": "markdown",
   "metadata": {
    "raw_mimetype": "text/latex"
   },
   "source": [
    "Working with the qiskit, the rule is to name the states writing the first qubit on the right. In this way, the tensor product of $q_0$ and $q_1$ is $q_1\\otimes q_0$.\n",
    "\n",
    "Using $q_0$ as control and $q_1$ as target, the CNOT is thus written:\n",
    "\n",
    "$$ CNOT =\\begin{pmatrix} 1 & 0 & 0 & 0\\\\ 0 & 0 & 0 & 1\\\\0& 0& 1 & 0\\\\0 & 1 & 0 & 0 \\end{pmatrix},$$\n",
    "\n",
    "One of the four Bell's States can be created by applying a gate $H$ on the control qubit, in our example $q_0$:\n",
    "\n",
    "$$ |Bell \\rangle= \\frac{(|00 \\rangle+|11\\rangle)} {\\sqrt{2}} $$\n"
   ]
  },
  {
   "cell_type": "code",
   "execution_count": null,
   "metadata": {},
   "outputs": [],
   "source": [
    "# Create the registers\n",
    "q2 = QuantumRegister(2)\n",
    "c2 = ClassicalRegister(2)\n",
    "\n",
    "# Create the Bell's State\n",
    "bell = QuantumCircuit(q2, c2)\n",
    "bell.h(q2[0])\n",
    "bell.cx(q2[0], q2[1])\n",
    "\n",
    "# Measure the qubits in the standard base (Z)\n",
    "measureZZ = QuantumCircuit(q2, c2)\n",
    "measureZZ.measure(q2[0], c2[0])\n",
    "measureZZ.measure(q2[1], c2[1])\n",
    "bellZZ = bell+measureZZ\n",
    "\n",
    "# Measure the qubits in the superposition base (X)\n",
    "measureXX = QuantumCircuit(q2, c2)\n",
    "measureXX.h(q2)\n",
    "measureXX.measure(q2[0], c2[0])\n",
    "measureXX.measure(q2[1], c2[1])\n",
    "bellXX = bell+measureXX"
   ]
  },
  {
   "cell_type": "markdown",
   "metadata": {},
   "source": [
    "Let's draw the circuit that maesures in Z basis:\n"
   ]
  },
  {
   "cell_type": "code",
   "execution_count": null,
   "metadata": {
    "scrolled": true
   },
   "outputs": [],
   "source": [
    "circuit_drawer(bellZZ,style=qx_color_scheme())"
   ]
  },
  {
   "cell_type": "markdown",
   "metadata": {},
   "source": [
    "How can we draw the circuit that measures in X basis?"
   ]
  },
  {
   "cell_type": "markdown",
   "metadata": {},
   "source": [
    "We are now ready to run the circuits on the qasm simulator."
   ]
  },
  {
   "cell_type": "code",
   "execution_count": null,
   "metadata": {},
   "outputs": [],
   "source": [
    "circuits = [bellZZ,bellXX]\n",
    "job = execute(circuits, backend)\n",
    "result = job.result()\n",
    "\n",
    "plot_histogram(result.get_counts(bellZZ))"
   ]
  },
  {
   "cell_type": "markdown",
   "metadata": {},
   "source": [
    "As we can see, this histogram tells us that when $q_0$ is $0$, then $q_1$ is $0$ with the highest probability, and the same holds for $q_0$ and $q_1$ equal to $1$. They are maximally correlated. However, let's see what happens when we measure them in the X basis."
   ]
  },
  {
   "cell_type": "markdown",
   "metadata": {},
   "source": [
    "Again, we will find that if $q_0$ is in the $|+\\rangle$ state:\n",
    "    $$ |+ \\rangle= \\frac{(|0 \\rangle+|1\\rangle)} {\\sqrt{2}} $$\n",
    "then also $q_1$ will be $|+\\rangle$, and the same will also hold for $|-\\rangle$ states:\n",
    "    $$ |- \\rangle= \\frac{(|0 \\rangle-|1\\rangle)} {\\sqrt{2}} $$"
   ]
  },
  {
   "cell_type": "markdown",
   "metadata": {},
   "source": [
    "## Mixed States\n",
    "### Reduced version of the Notebook by:\n",
    "Jay Gambetta, Antonio Córcoles, Andrew Cross, Anna Phan\n",
    "\n",
    "It is important to notice that having correlated results for two qubits does not imply entanglement. \n",
    "To see this, we will prepare a classical mixed state; in other words we will measure half of the time the state $|00\\rangle$ and half of the time the state $|11\\rangle$, obtained applying the $X$ gate on the qubits, and compare the statistics with the Bell's State.\n"
   ]
  },
  {
   "cell_type": "code",
   "execution_count": null,
   "metadata": {},
   "outputs": [],
   "source": [
    "# Create a circuit that measures the qubits in 0 and one that flips and measures them in 1:\n",
    "mixed1 = QuantumCircuit(q2, c2)\n",
    "mixed2 = QuantumCircuit(q2, c2)\n",
    "mixed2.x(q2)\n",
    "mixed1.measure(q2[0], c2[0])\n",
    "mixed1.measure(q2[1], c2[1])\n",
    "mixed2.measure(q2[0], c2[0])\n",
    "mixed2.measure(q2[1], c2[1])\n",
    "\n",
    "circuit_drawer(mixed1,style=qx_color_scheme())"
   ]
  },
  {
   "cell_type": "code",
   "execution_count": null,
   "metadata": {},
   "outputs": [],
   "source": [
    "circuit_drawer(mixed2,style=qx_color_scheme())"
   ]
  },
  {
   "cell_type": "markdown",
   "metadata": {},
   "source": [
    "Now we create the mixed state:"
   ]
  },
  {
   "cell_type": "code",
   "execution_count": null,
   "metadata": {},
   "outputs": [],
   "source": [
    "mixed_state = [mixed1,mixed2]\n",
    "job = execute(mixed_state, backend)\n",
    "result = job.result()\n",
    "\n",
    "counts1 = result.get_counts(mixed_state[0])\n",
    "counts2 = result.get_counts(mixed_state[1])\n",
    "\n",
    "from collections import Counter\n",
    "ground = Counter(counts1)\n",
    "excited = Counter(counts2)\n",
    "plot_histogram(ground+excited)"
   ]
  },
  {
   "cell_type": "markdown",
   "metadata": {},
   "source": [
    "At first sight, we obtain the same result as before with the Bell's State. There is no entanglement here, however. \n",
    "What happens if we look at this state in the X basis?"
   ]
  },
  {
   "cell_type": "markdown",
   "metadata": {},
   "source": [
    "## Unitary Matrices\n",
    "### Notebook by:\n",
    "Najla Said\n",
    "\n",
    "Now we will look at the matrices that create the Bell's State and the mixed state. To do this we should use a different simulator, not the _qasm_. Which one?"
   ]
  },
  {
   "cell_type": "code",
   "execution_count": null,
   "metadata": {},
   "outputs": [],
   "source": [
    "backend = Aer.get_backend('') # select the appropriate backend\n",
    "\n",
    "# Create registers\n",
    "q2 = QuantumRegister(2)\n",
    "c2 = ClassicalRegister(2)\n",
    "\n",
    "# Create the Bell's State\n",
    "bell = QuantumCircuit(q2, c2)\n",
    "bell.h(q2[0])\n",
    "bell.cx(q2[0], q2[1])\n",
    "\n",
    "# Run the job to see the matrix that creates the entanglement\n",
    "circuit = bell\n",
    "job = execute(circuit, backend)\n",
    "result = job.result()\n",
    "\n",
    "print(result.get_unitary(bell, decimals=3))"
   ]
  },
  {
   "cell_type": "markdown",
   "metadata": {},
   "source": [
    "Verify that the matrix of the circuit is the following:\n",
    "\n",
    "$$ M =\\frac{1}{\\sqrt{2}}\\begin{pmatrix} 1 & 1 & 0 & 0\\\\ 0 & 0 & 1 & -1\\\\0 & 0 & 1 & 1\\\\1 & -1 & 0 & 0 \\end{pmatrix}.$$\n",
    "\n",
    "If we apply $M$ to the starting state $|00\\rangle$, indeed, we obtain the Bell's State in that we end up in $|00\\rangle$ or in $|11\\rangle$ with the same probability.     \n",
    "  "
   ]
  },
  {
   "cell_type": "code",
   "execution_count": null,
   "metadata": {},
   "outputs": [],
   "source": [
    "backend = Aer.get_backend('unitary_simulator') # select the appropriate simulator\n",
    "\n",
    "# Creazione dei registri\n",
    "q2 = QuantumRegister(2)\n",
    "c2 = ClassicalRegister(2)\n",
    "\n",
    "# Creazione dello stato misto \n",
    "mix1 = QuantumCircuit(q2, c2)\n",
    "mix2 = QuantumCircuit(q2, c2)\n",
    "mix1.iden(q2)\n",
    "mix2.x(q2)\n",
    "\n",
    "# Eseguiamo i circuiti per ottenere le matrici\n",
    "mixed_state = [mix1,mix2]\n",
    "job = execute(mixed_state, backend)\n",
    "result = job.result()\n",
    "\n",
    "print(result.get_unitary(mixed_state[0], decimals=3),'\\n \\n',result.get_unitary(mixed_state[1],decimals=3))\n"
   ]
  },
  {
   "cell_type": "markdown",
   "metadata": {},
   "source": [
    "Verify that the matrices of the circuits that form the mixed state are:\n",
    "\n",
    "$$ M_1 =\\begin{pmatrix} 1 & 0 & 0 & 0\\\\ 0 & 1 & 0 & 0\\\\0& 0& 1 & 0\\\\0 & 0 & 0 & 1 \\end{pmatrix}, \\hspace{2pt} M_2 =\\begin{pmatrix} 0 & 0 & 0 & 1\\\\ 0 & 0 & 1 & 0\\\\0& 1& 0 & 0\\\\1 & 0 & 0 & 0 \\end{pmatrix}.$$\n",
    "\n",
    "If we apply $M_1$ to the starting state $|00\\rangle$, we stay in $|00\\rangle$ with probability 1.\n",
    "On the other hand, if we apply $M_2$, we end up in $|11\\rangle$, again with probability 1."
   ]
  },
  {
   "cell_type": "markdown",
   "metadata": {},
   "source": [
    "## Envariance\n",
    "### Notebook by\n",
    "\n",
    "Najla Said\n",
    "\n",
    "Let's now demonstrate envariance, or entangled assisted invariance, following the work of this paper from Deffner arXiv:1609.07459v2 [quant-ph].\n",
    "\n",
    "We start by generating a Bell's State, we then flip the first qubit, while the other qubit stays unchanged. We continue by flipping the second qubit, while the first stays unchanged. The envariance will bring us back to the starting state.\n",
    "\n",
    "Indeed:\n",
    "$$ \\frac{1}{\\sqrt{2}} (|00\\rangle + |11\\rangle)$$\n",
    "$$ X(q_0) \\rightarrow \\frac{1}{\\sqrt{2}} (|01\\rangle + |10\\rangle)$$\n",
    "$$ X(q_1) \\rightarrow \\frac{1}{\\sqrt{2}} (|11\\rangle + |00\\rangle)$$"
   ]
  },
  {
   "cell_type": "code",
   "execution_count": null,
   "metadata": {},
   "outputs": [],
   "source": [
    "backend= Aer.get_backend('qasm_simulator')\n",
    "\n",
    "q2 = QuantumRegister(2)\n",
    "c2 = ClassicalRegister(2)\n",
    "\n",
    "# Create Bell's State\n",
    "env = QuantumCircuit(q2, c2)\n",
    "env.h(q2[0])\n",
    "env.cx(q2[0], q2[1])\n",
    "\n",
    "# Apply the X gates\n",
    "env.x(q2[0])\n",
    "env.iden(q2[1])\n",
    "env.iden(q2[0])\n",
    "env.x(q2[1])\n",
    "\n",
    "meas = QuantumCircuit(q2, c2)\n",
    "meas.measure(q2[0], c2[0])\n",
    "meas.measure(q2[1], c2[1])\n",
    "env = env+meas\n",
    "\n",
    "circuit_drawer(env,style=qx_color_scheme())"
   ]
  },
  {
   "cell_type": "code",
   "execution_count": null,
   "metadata": {},
   "outputs": [],
   "source": [
    "circuit = env\n",
    "job = execute(circuit, backend)\n",
    "result = job.result()\n",
    "\n",
    "plot_histogram(result.get_counts(env))"
   ]
  },
  {
   "cell_type": "markdown",
   "metadata": {},
   "source": [
    "If we try the same experiment (apply X on a qubit, and then on the other) on two qubits $|00\\rangle$ that are not entangled, we will find the classical expected result. Which one?"
   ]
  }
 ],
 "metadata": {
  "celltoolbar": "Raw Cell Format",
  "kernelspec": {
   "display_name": "Python 3",
   "language": "python",
   "name": "python3"
  },
  "language_info": {
   "codemirror_mode": {
    "name": "ipython",
    "version": 3
   },
   "file_extension": ".py",
   "mimetype": "text/x-python",
   "name": "python",
   "nbconvert_exporter": "python",
   "pygments_lexer": "ipython3",
   "version": "3.6.0"
  }
 },
 "nbformat": 4,
 "nbformat_minor": 2
}
