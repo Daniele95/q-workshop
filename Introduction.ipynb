{
 "cells": [
  {
   "cell_type": "markdown",
   "metadata": {},
   "source": [
    "# Part 0 - Introduction to Qiskit\n",
    "\n",
    "by **Francesco Tacchino** on <https://github.com/quantumofme/pavia-qiskit-tutorials>\n",
    "-- review for UniMI Workshop by **Michele Grossi**\n",
    "\n",
    "<p style='text-align: justify;'> \n",
    " In this introduction, you will learn how to import the qiskit library in a python script, how to load your credentials and check that you are ready to go. We will cover a theoretical minumum of qiskit functionalities that will be sufficient to run simple quantum circuits on classical simulators and real cloud-based quantum processors. For more extensive discussions and advanced usage, you can have a look to the official qiskit documentation and tutorials on <https://qiskit.org>. </p>\n",
    "\n",
    "<p style='text-align: justify;'> If you are not very familiar with quantum computing routines, you can read section 0.1 here to set up your qiskit, then move directly to [Part 1](./Part1.ipynb) to work on the basics. You may want to come back to this notebook later to learn about qiskit functionalities. </p>"
   ]
  },
  {
   "cell_type": "markdown",
   "metadata": {},
   "source": [
    "## 0.1 - Setting up qiskit\n",
    "\n",
    "### Importing qiskit\n",
    "\n",
    "<p style='text-align: justify;'> You can import qiskit in a python script as you would do with any other module. \n",
    "    The following code does the imports and checks the current version of qiskit. </p>"
   ]
  },
  {
   "cell_type": "code",
   "execution_count": 3,
   "metadata": {},
   "outputs": [
    {
     "name": "stdout",
     "output_type": "stream",
     "text": [
      "You are using qiskit version 0.7.1\n"
     ]
    }
   ],
   "source": [
    "# Welcome to qiskit\n",
    "import qiskit as qk\n",
    "\n",
    "myvers = qk.__version__\n",
    "print(\"You are using qiskit version\", myvers)\n"
   ]
  },
  {
   "cell_type": "markdown",
   "metadata": {},
   "source": [
    "### Credentials \n",
    "\n",
    "\n",
    "<p style='text-align: justify;'> There are several ways of loading the IBMQ credentials allowing you to authenticate to the Quantum Experience. Authentication will give you access to the remote services provided by IBMQ, including the real quantum processors. Before proceeding, go to the Quantum Experience website ( https://quantumexperience.ng.bluemix.net/qx/experience)\n",
    "sign up and obtain an API key. Then you can run the following to load your credentials (insert your credential instead of APItoken). Other methods permanetly save credentials on your machine for future reference without the need of a Qconfig file (see the online Qiskit tutorial or documentation for these advanced options). Notice that running the following code twice on the same kernel (without restarting it) in Jupyter may cause a warning message ('Credentials are already in use.'). </p>"
   ]
  },
  {
   "cell_type": "code",
   "execution_count": 4,
   "metadata": {},
   "outputs": [],
   "source": [
    "# to use a real processor:\n",
    "from qiskit import IBMQ\n",
    "#IBMQ.save_account('APItoken')   \n",
    "IBMQ.load_accounts()"
   ]
  },
  {
   "cell_type": "markdown",
   "metadata": {},
   "source": [
    "For those who do not want to save their credentials to disk please use:"
   ]
  },
  {
   "cell_type": "code",
   "execution_count": 5,
   "metadata": {},
   "outputs": [],
   "source": [
    "#from qiskit import IBMQ\n",
    "#IBMQ.enable_account('API_TOKEN')"
   ]
  },
  {
   "cell_type": "markdown",
   "metadata": {},
   "source": [
    "and the token will only be active for the session"
   ]
  },
  {
   "cell_type": "markdown",
   "metadata": {},
   "source": [
    "### The local backends\n",
    "\n",
    "<p style='text-align: justify;'> Local backends are simulation engines for your quantum software running locally on your machine. Of course, they are at best classical emulators of a real quantum processor, but they are very versatile, quick and useful to test your codes and algorithms on small numbers of qubits. You can visualize which of these engines are available by running the following command: </p>"
   ]
  },
  {
   "cell_type": "code",
   "execution_count": 6,
   "metadata": {},
   "outputs": [
    {
     "data": {
      "text/plain": [
       "[<QasmSimulatorPy('qasm_simulator') from BasicAer()>,\n",
       " <StatevectorSimulatorPy('statevector_simulator') from BasicAer()>,\n",
       " <UnitarySimulatorPy('unitary_simulator') from BasicAer()>]"
      ]
     },
     "execution_count": 6,
     "metadata": {},
     "output_type": "execute_result"
    }
   ],
   "source": [
    "# Check the available local backends\n",
    "\n",
    "qk.BasicAer.backends()"
   ]
  },
  {
   "cell_type": "markdown",
   "metadata": {},
   "source": [
    "<p style='text-align: justify;'> The `BasicAer` sub-module stands for a simplified versioon of Aer provider. Aer is the part of qiskit dealing with simulation of quantum processors on classical machines. It gives you access to the following backends, that you should see among those listed in the output of the command above:</p>\n",
    "\n",
    "* <p style='text-align: justify;'>`qasm_simulator`: this is the most important local simulator, which allows you to directly run any quantum circuit as if you were working with an ideal quantum processor and get the outcomes in the same form as you would get with real backends. Advaced users can also include and control the noise affecting the computation.</p>\n",
    "* <p style='text-align: justify;'>`statevector_simulator`: this simulator can be used to compute the final state of the qubits (i.e. a $2^N$-dimensional vector for $N$ qubits) at the end of a quantum circuit. </p>\n",
    "* <p style='text-align: justify;'>`unitary simulator`: this simulator works out the algebra of the unitary matrices representing the operations in a quantum circuit. </p>\n",
    "\n",
    "<p style='text-align: justify;'> In this tutorials, we will mainly use the `qasm_simulator` and the `statevector_simulator`. Once again, you can learn more about advanced features in the official qiskit tutorials. </p>"
   ]
  },
  {
   "cell_type": "markdown",
   "metadata": {},
   "source": [
    "### The IBMQ backends\n",
    "\n",
    "<p style='text-align: justify;'> The `IBMQ` provider stands for the remote IBM Quantum Experience giving you access to real quantum processors. In order to successfully use such backends, you will need to load your credentials (one method was explained in a paragraph above), containing a personal API key connected with your account. Once authenticated, run the following command to check the available remote IBMQ backends:</p>"
   ]
  },
  {
   "cell_type": "code",
   "execution_count": 7,
   "metadata": {},
   "outputs": [
    {
     "data": {
      "text/plain": [
       "[<IBMQBackend('ibmqx4') from IBMQ()>,\n",
       " <IBMQBackend('ibmqx2') from IBMQ()>,\n",
       " <IBMQBackend('ibmq_16_melbourne') from IBMQ()>,\n",
       " <IBMQBackend('ibmq_qasm_simulator') from IBMQ()>]"
      ]
     },
     "execution_count": 7,
     "metadata": {},
     "output_type": "execute_result"
    }
   ],
   "source": [
    "# Check the available cloud-based backends\n",
    "\n",
    "qk.IBMQ.backends()"
   ]
  },
  {
   "cell_type": "markdown",
   "metadata": {},
   "source": [
    "<p style='text-align: justify;'> In the output, you should get a list of backends whose names start with 'ibmq'. Most of them are real quantum processors:</p>\n",
    "\n",
    "* <p style='text-align: justify;'> `ibmqx4`: the 'Tenerife' 5-qubit quantum chip </p>\n",
    "* <p style='text-align: justify;'> `ibmq_16_melbourne`: the 14-qubit quantum chip </p>\n",
    "\n",
    "<p style='text-align: justify;'> Through the quantum experience you have also access to a hpc simulator, named `ibmq_qasm_simulator`: it is essentially a remote version of the local `qasm_simulator` but with extended computational power, allowing simulations of circuits containing up to 32 qubits. Remember, however, that this is not a real quantum processor!</p>"
   ]
  },
  {
   "cell_type": "markdown",
   "metadata": {},
   "source": [
    "## 0.2 - Writing and running quantum code\n",
    "\n",
    "### A quantum program\n",
    "\n",
    "<p style='text-align: justify;'> Programming a sequence of gates and measurements (i.e. a quantum circuit) in qiskit can be done in a few easy steps. First of all, we have to declare how many qubits (a _quantum register_) we want to use, and how many classical bits (a _classical register_) we will need to write the outcome of the quantum measurements at the end of the circuit. For a simple example, we will use 2 qubits and 2 bits:</p>"
   ]
  },
  {
   "cell_type": "code",
   "execution_count": 8,
   "metadata": {},
   "outputs": [],
   "source": [
    "qr = qk.QuantumRegister(2,name='qreg')\n",
    "cr = qk.ClassicalRegister(2,name='creg')\n",
    "qc = qk.QuantumCircuit(qr,cr)  # A QuantumCircuit is composed of quantum and classical registers"
   ]
  },
  {
   "cell_type": "markdown",
   "metadata": {},
   "source": [
    "<p style='text-align: justify;'> Naming the registers is optional, but can be useful in some cases (we will see an example below). The `QuantumCircuit` object contains all the tools required to manipulate and build your sequences and instructions. The most important feature is of course the possibility to add quantum gates acting on specific qubits. For example, let us add a single qubit $\\mathrm{NOT}$ (named $\\mathrm{X}$ in the context of quantum computing) gate to the first qubit in our register `qr` included in circuit `qc`: </p>"
   ]
  },
  {
   "cell_type": "code",
   "execution_count": 9,
   "metadata": {},
   "outputs": [
    {
     "data": {
      "text/plain": [
       "<qiskit.extensions.standard.x.XGate at 0x11ee7c208>"
      ]
     },
     "execution_count": 9,
     "metadata": {},
     "output_type": "execute_result"
    }
   ],
   "source": [
    "qc.x(qr[0])"
   ]
  },
  {
   "cell_type": "markdown",
   "metadata": {},
   "source": [
    "<p style='text-align: justify;'> When writing sequences of gates, you can use normal python commands such as `for` cycles to add multiple gates. For example, let us add Hadamard gates on both qubits in `qr`:</p>"
   ]
  },
  {
   "cell_type": "code",
   "execution_count": 10,
   "metadata": {},
   "outputs": [],
   "source": [
    "for indx in range(2):\n",
    "    qc.h(qr[indx])"
   ]
  },
  {
   "cell_type": "markdown",
   "metadata": {},
   "source": [
    "<p style='text-align: justify;'> Remember that in qiskit all the qubits are conventionally initialized in the blank state $\\left|0\\right\\rangle$ at the beginning of a circuit. You sould also pay attention that, as it is common in python, the register indeces start at 0 (i.e. the first qubit of `qr` is `qr[0]`). </p>\n",
    "  \n",
    "<p style='text-align: justify;'> Qiskit can handle a large set of single qubit gates: you can see all the options and the syntax in the official qiskit tutorials, and many examples will be also shown in the remaining of these notes. The native two qubit gate completing a universal set for quantum computation is the $\\mathrm{CX}$ (known also as $\\mathrm{CNOT}$) gate. The syntax is the following:</p>"
   ]
  },
  {
   "cell_type": "code",
   "execution_count": 11,
   "metadata": {},
   "outputs": [
    {
     "data": {
      "text/plain": [
       "<qiskit.extensions.standard.cx.CnotGate at 0x11ee7c470>"
      ]
     },
     "execution_count": 11,
     "metadata": {},
     "output_type": "execute_result"
    }
   ],
   "source": [
    "qc.cx(qr[0],qr[1]) # The first entry is the control qubit, the secon entry is the target qubit for the CNOT"
   ]
  },
  {
   "cell_type": "markdown",
   "metadata": {},
   "source": [
    "<p style='text-align: justify;'> At the end of your cicruit, you may want to measure some (or all) of your qubits. Qiskit provides a measurement in the standard computational basis (i.e. the set of eigenstates of the Pauli matrix $\\sigma_z$ for each qubit). Later in these notes, we will learn how to select a different basis for your measurements. When including a measurement in the circuit, you can choose the classical bit to which each qubit will be mapped:</p>"
   ]
  },
  {
   "cell_type": "code",
   "execution_count": 12,
   "metadata": {},
   "outputs": [
    {
     "data": {
      "text/plain": [
       "<qiskit.circuit.measure.Measure at 0x11ee7c860>"
      ]
     },
     "execution_count": 12,
     "metadata": {},
     "output_type": "execute_result"
    }
   ],
   "source": [
    "qc.measure(qr[0],cr[0])\n",
    "qc.measure(qr[1],cr[1])"
   ]
  },
  {
   "cell_type": "markdown",
   "metadata": {},
   "source": [
    "<p style='text-align: justify;'> Now that the circuit is complete, you can visualize it directly in qiskit. Notice that the registers will be labeled with the optional names we selected at the beginning:</p>"
   ]
  },
  {
   "cell_type": "code",
   "execution_count": 13,
   "metadata": {},
   "outputs": [
    {
     "data": {
      "text/html": [
       "<pre style=\"word-wrap: normal;white-space: pre;line-height: 15px;\">                ┌───┐┌───┐        ┌─┐\n",
       "qreg_0: |0>─────┤ X ├┤ H ├──■─────┤M├\n",
       "           ┌───┐└───┘└───┘┌─┴─┐┌─┐└╥┘\n",
       "qreg_1: |0>┤ H ├──────────┤ X ├┤M├─╫─\n",
       "           └───┘          └───┘└╥┘ ║ \n",
       " creg_0: 0 ═════════════════════╬══╩═\n",
       "                                ║    \n",
       " creg_1: 0 ═════════════════════╩════\n",
       "                                     </pre>"
      ],
      "text/plain": [
       "<qiskit.tools.visualization._text.TextDrawing at 0x11ee7c1d0>"
      ]
     },
     "execution_count": 13,
     "metadata": {},
     "output_type": "execute_result"
    }
   ],
   "source": [
    "qc.draw()"
   ]
  },
  {
   "cell_type": "markdown",
   "metadata": {},
   "source": [
    "<p style='text-align: justify;'> You can also ask for a matplotlib or latex rendering style:</p>"
   ]
  },
  {
   "cell_type": "code",
   "execution_count": 14,
   "metadata": {},
   "outputs": [
    {
     "data": {
      "image/png": "[encoded data removed]",
      "text/plain": [
       "<Figure size 481.6x258.86 with 1 Axes>"
      ]
     },
     "execution_count": 14,
     "metadata": {},
     "output_type": "execute_result"
    }
   ],
   "source": [
    "qc.draw(output='mpl')"
   ]
  },
  {
   "cell_type": "code",
   "execution_count": 15,
   "metadata": {},
   "outputs": [
    {
     "data": {
      "image/png": "[encoded data removed]",
      "text/plain": [
       "<PIL.Image.Image image mode=RGB size=526x183 at 0x120C14240>"
      ]
     },
     "execution_count": 15,
     "metadata": {},
     "output_type": "execute_result"
    }
   ],
   "source": [
    "qc.draw(output='latex')"
   ]
  },
  {
   "cell_type": "markdown",
   "metadata": {},
   "source": [
    "### Running the program locally\n",
    "\n",
    "<p style='text-align: justify;'> To run a quantum program, we need first to select a backend. Let us start with the local simulator:</p>"
   ]
  },
  {
   "cell_type": "code",
   "execution_count": 16,
   "metadata": {},
   "outputs": [],
   "source": [
    "backend1 = qk.BasicAer.get_backend('qasm_simulator')"
   ]
  },
  {
   "cell_type": "markdown",
   "metadata": {},
   "source": [
    "<p style='text-align: justify;'> We can then directly ask qiskit to execute our circuit:</p>"
   ]
  },
  {
   "cell_type": "code",
   "execution_count": 17,
   "metadata": {},
   "outputs": [],
   "source": [
    "job1 = qk.execute(qc, backend1, shots=1024) # The shots are the number of times the circuit will be run.\n",
    "                                            # More shots will mean better reconstruction of the measurement statistics\n",
    "                                            # but also longer execution times and (on real backends) more execution\n",
    "                                            # credits consumed"
   ]
  },
  {
   "cell_type": "markdown",
   "metadata": {},
   "source": [
    "<p style='text-align: justify;'> After the command above has completed its execution, we can ask for the results in the following way:</p>"
   ]
  },
  {
   "cell_type": "code",
   "execution_count": 18,
   "metadata": {},
   "outputs": [
    {
     "name": "stdout",
     "output_type": "stream",
     "text": [
      "{'11': 252, '10': 264, '01': 257, '00': 251}\n"
     ]
    }
   ],
   "source": [
    "result1 = job1.result()\n",
    "counts1 = result1.get_counts(qc)\n",
    "print(counts1)"
   ]
  },
  {
   "cell_type": "markdown",
   "metadata": {},
   "source": [
    "<p style='text-align: justify;'> Notice that the rightmost bit in the output (e.g. the 0 in '10') represents `cr[0]` and the index of `cr` bits increases towards the left. Remember that the results are probabilistic, so running this notebook twice could give slightly different counts. We can also make a nice histogram of the results:</p>"
   ]
  },
  {
   "cell_type": "code",
   "execution_count": 19,
   "metadata": {},
   "outputs": [
    {
     "data": {
      "image/png": "[encoded data removed]",
      "text/plain": [
       "<Figure size 504x360 with 1 Axes>"
      ]
     },
     "execution_count": 19,
     "metadata": {},
     "output_type": "execute_result"
    }
   ],
   "source": [
    "from qiskit.tools.visualization import plot_histogram\n",
    "plot_histogram(counts1)"
   ]
  },
  {
   "cell_type": "markdown",
   "metadata": {},
   "source": [
    "### Running on IBMQ real backends\n",
    "\n",
    "<p style='text-align: justify;'> Running your quantum code on a remote real quantum processor requires very little modifications from what we have already done. In particular, there are no changes at all in how to prepare and write the `qc` object. We just need to select one of the available remote IBMQ chips as our backend:</p>"
   ]
  },
  {
   "cell_type": "code",
   "execution_count": 20,
   "metadata": {},
   "outputs": [],
   "source": [
    "backend2 = qk.IBMQ.get_backend('ibmqx4')"
   ]
  },
  {
   "cell_type": "markdown",
   "metadata": {},
   "source": [
    "<p style='text-align: justify;'> We can then ask again qiskit to run our circuit, this time on the 'Tenerfe' processor. If the number of qubits in `qr` can fit into the real chip (as it is the case now), qiskit will automatically take care of selecting the right qubits on which the circuit will be mapped and to adjust the topology of the $\\mathrm{CX}$ gates if that is needed (more on this in a moment). The execution now will last longer because we will have to wait in the job queue of the public device. You can submit as many jobs as your execution credits allow (see Appendix to learn how to get the status of your credits and the cost of single executions).</p>"
   ]
  },
  {
   "cell_type": "code",
   "execution_count": null,
   "metadata": {},
   "outputs": [],
   "source": [
    "job2 = qk.execute(qc, backend=backend2, shots=1024)"
   ]
  },
  {
   "cell_type": "markdown",
   "metadata": {},
   "source": [
    "<p style='text-align: justify;'> The command above will actually onlu submit your request to the IBMQ server. The job will then stay in the queue and it will eventually be executed. You can get real time updates on the status of your job by using the following command:</p>"
   ]
  },
  {
   "cell_type": "code",
   "execution_count": null,
   "metadata": {},
   "outputs": [],
   "source": [
    "from qiskit.tools.monitor import job_monitor\n",
    "job_monitor(job2, interval=5)"
   ]
  },
  {
   "cell_type": "markdown",
   "metadata": {},
   "source": [
    "<p style='text-align: justify;'> The previous command will put your python script on hold, with the above output being updated every `interval` until the job is executed. A non-blocking version of `job_monitor` is also available, see https://nbviewer.jupyter.org/github/Qiskit/qiskit-tutorial/blob/master/qiskit/jupyter/jupyter_backend_tools.ipynb </p>\n",
    "\n",
    "<p style='text-align: justify;'> Once the execution is complete, you can retrieve the results as done above for the local version:</p>"
   ]
  },
  {
   "cell_type": "code",
   "execution_count": null,
   "metadata": {},
   "outputs": [],
   "source": [
    "result2 = job2.result()\n",
    "counts2 = result2.get_counts(qc)\n",
    "print(counts2)\n",
    "plot_histogram(counts2)"
   ]
  },
  {
   "cell_type": "markdown",
   "metadata": {},
   "source": [
    "<p style='text-align: justify;'> Every job you submit to the IBM Quantum Experience gets a unique ID that you can read and save for future reference:</p>"
   ]
  },
  {
   "cell_type": "code",
   "execution_count": null,
   "metadata": {},
   "outputs": [],
   "source": [
    "jobID = job2.job_id()\n",
    "print(jobID)"
   ]
  },
  {
   "cell_type": "markdown",
   "metadata": {},
   "source": [
    "<p style='text-align: justify;'> For example, with the `jobID` you can retrieve your job from the server, and extract the results (this is particularly useful if the execution queue takes longer than you can wait online):</p>"
   ]
  },
  {
   "cell_type": "code",
   "execution_count": null,
   "metadata": {},
   "outputs": [],
   "source": [
    "job_get = backend2.retrieve_job(jobID)\n",
    "counts_get = job_get.result().get_counts()\n",
    "print(counts_get)"
   ]
  },
  {
   "cell_type": "markdown",
   "metadata": {},
   "source": [
    "<p style='text-align: justify;'> We can use the hystogram plotting function to compare the ideal (local simulator) and experimental results:</p>"
   ]
  },
  {
   "cell_type": "code",
   "execution_count": null,
   "metadata": {},
   "outputs": [],
   "source": [
    "plot_histogram([counts1,counts_get])"
   ]
  },
  {
   "cell_type": "markdown",
   "metadata": {},
   "source": [
    "#####################################################################################################################\n",
    "#### _Bonus track_ - Choosing the layout on real backends\n",
    "\n",
    "<p style='text-align: justify;'> This subsection is rather technical and you can skip it if you are not immediately interested. You may come here later if you want to learn more about how to map your quantum circuits to specific sets of qubits on the real devices.</p>\n",
    "\n",
    "<p style='text-align: justify;'> When running a quantum circuit on IBMQ real backends, you should always keep in mind the fact that these prototypes are not ideal, in the sense that they are noisy, the qubits are not all identical and the connectivity between qubits is not _all-to-all_. In particular, whenever your circuit contains two-qubit $\\mathrm{CX}$ gates, it is not always possible to run it on the selected backend as it stands, since the two qubits involved may not be directly connected and/or the role of control and target is not interchangeable. Qiskit is able to deal with most of these issues related to mapping an abstract circuit to the real processor in an automated way, but you should be aware that this can result in a modified version of the circuit being actually run on the chip. This modified circuit is usually longer than the original one, and therefore affected by larger amounts of noise and errors, leading to worse performances. Sometimes, the qiskit mapper may also fail. </p>\n",
    "\n",
    "<p style='text-align: justify;'> Whenever possible and particularly to optimize specific applications, you should always try to consider the structure of the backend already when designing the quantum circuit. You might also want to select a specifig group of the available qubits to run your quantum code. In all these cases, qiskit lets you specify your preferred mapping of a circuit to the physical qubits with a layout option. For example, let us suppose we want to run our `qc` circuit on 'Tenerife' mapping qubits 0 and 1 of our abstract quantum register `qr` with name `qreg` to qubits 3 and 4 of the chip. Notice that a $\\mathrm{CX}(q_3,q_4)$ with qubit 3 acting as control and qubit 4 as target is directly available on the processor (see https://github.com/Qiskit/ibmq-device-information for details on the real backends, and the official qiskit tutorials for more information on how to extract backend properties directly inside a python script). First, we specify the layout with the following syntax involving register names (`q` is a standard name on the real devices):</p>"
   ]
  },
  {
   "cell_type": "code",
   "execution_count": null,
   "metadata": {},
   "outputs": [],
   "source": [
    "custom_layout = {(\"qreg\", 0): (\"q\", 3), (\"qreg\", 1): (\"q\", 4)} # abstract qr[0] will be mapped in q[3] on Tenerife\n",
    "                                                               # abstract qr[1] will be mapped in q[4] on Tenerife"
   ]
  },
  {
   "cell_type": "markdown",
   "metadata": {},
   "source": [
    "<p style='text-align: justify;'> Then, we tell qiskit to compile our circuit for the required backend by using our initial layout as a starting point. If the `custom_layout` lets the circuit be mapped as it is on the chip (i.e. if all the two qubit gates are connected and directed in the right way when, for example, qubits 3 and 4 on the chip represent qubits 0 and 1 of the abstract circuits), the original circuit will not be modified nor made longer, but mapped and run directly on the real backend as we wanted it originally.</p>"
   ]
  },
  {
   "cell_type": "code",
   "execution_count": null,
   "metadata": {},
   "outputs": [],
   "source": [
    "backend_coupling_map = backend2.configuration().coupling_map\n",
    "qobj = qk.compile(qc, backend = backend2 , coupling_map = backend_coupling_map, initial_layout = custom_layout, \n",
    "                  shots = 1024)"
   ]
  },
  {
   "cell_type": "markdown",
   "metadata": {},
   "source": [
    "<p style='text-align: justify;'> We can then run the compiled quantum object `qobj` with the following command:</p>"
   ]
  },
  {
   "cell_type": "code",
   "execution_count": null,
   "metadata": {},
   "outputs": [],
   "source": [
    "job3 = backend2.run(compiled_qobj)"
   ]
  },
  {
   "cell_type": "markdown",
   "metadata": {},
   "source": [
    "<p style='text-align: justify;'> The `job3` object is now equivalent to `job2` above, and can be treated in the same way for monitoring status and retrieving results. In order to appreciate the difference between a better and a worse choice of the layout, below we compare the  _QASM_ listings of two quantum objects with the same circuit `qc` but different mappings. Here _QASM_ stands for [_quantum assembly language_](https://arxiv.org/abs/1707.03429), and is used to describe the sequence of gates that is _actually_ run on the chip after the compilation stage through qiskit has taken place.</p>"
   ]
  },
  {
   "cell_type": "code",
   "execution_count": null,
   "metadata": {},
   "outputs": [],
   "source": [
    "from qiskit.qobj._converter import qobj_to_dict_previous_version   # This is a workaround to access the compiled QASM\n",
    "\n",
    "custom_layout_bad = {(\"qreg\", 0): (\"q\", 2), (\"qreg\", 1): (\"q\", 3)} # There is only a 3 -> 2 direction of CX on Tenerife\n",
    "                                                                   # so qiskit will add additional gates to reverse the\n",
    "                                                                   # 0 -> 1 CX that we requested in qc.\n",
    "qobj_bad = qk.compile(qc, backend = backend2 , coupling_map = backend_coupling_map, initial_layout = custom_layout_bad, \n",
    "                      shots = 1024)\n",
    "\n",
    "qobj_old = qobj_to_dict_previous_version(qobj)\n",
    "QASMcompiled = qobj_old['circuits'][0]['compiled_circuit_qasm']\n",
    "print('Here is the compiled QASM source code for the good mapping:')\n",
    "print(QASMcompiled)\n",
    "\n",
    "qobj_bad_old = qobj_to_dict_previous_version(qobj_bad)\n",
    "QASMcompiled_bad = qobj_bad_old['circuits'][0]['compiled_circuit_qasm']\n",
    "print('Here is the compiled QASM source code for the bad mapping:')\n",
    "print(QASMcompiled_bad)"
   ]
  },
  {
   "cell_type": "markdown",
   "metadata": {},
   "source": [
    "<p style='text-align: justify;'> The compiled circuit in the second case is formally equivalent to the original one, in the sense that the overall unitary transformation is the same, but the structure is changed, and the circuit is longer (there are 3 single qubit gates instead of only 2, and the cx is in the 3->2 direction, the only available on the hardware, even though we asked for 0->1 in the abstract `qc`, and mapped qr[0] on Tenerife's q[2] and qr[1] on Tenerife's q[3]). Notice that in both cases, single qubit gates are translated in some general parametrized unitaries (`u2`, `u3`), which are the native single-qubit gates on the IBMQ chips.</p>"
   ]
  },
  {
   "cell_type": "markdown",
   "metadata": {
    "collapsed": true
   },
   "source": [
    "## Exercises\n",
    "\n",
    "* <p style='text-align: justify;'> **Exercise 0.1** Run again this notebook (after restarting the Jupyter kernel!) without enabling your credentials. How do the available local and IBMQ backends change?</p>\n",
    "* <p style='text-align: justify;'> **Exercise 0.2** Run an experiment, either on local or on remote backends, with the following circuit:</p>\n",
    "![Ex02circuit.png](attachment:Ex02circuit.png)\n",
    "* <p style='text-align: justify;'> **Exercise 0.3** Run an experiment, either on local or on remote backends, implementing the following unitary transformation on two qubits $q_0$ and $q_1$ starting from the blank state $|00\\rangle$:\n",
    "$$ U = \\mathrm{X}_{q_0} \\, \\mathrm{CX}(q_0,q_1) \\, \\mathrm{H}_{q_0} $$ (_hint_: pay attention to the order in which the gates appear in the formula with respect to the order of gates in the circuit).</p>"
   ]
  },
  {
   "cell_type": "markdown",
   "metadata": {},
   "source": [
    "## Appendix: the credits system"
   ]
  },
  {
   "cell_type": "markdown",
   "metadata": {},
   "source": [
    "<p style='text-align: justify;'> The IBM Quantum Experience uses a credits system to manage execution queues. With a standard account you will get a fixed amount of credits which you can use to submit a job to be run on a real chip. Each execution will cost from 3 to 5 credits, depending on the amount of shots (max. 8192, costing 5 credits). You can submit jobs as long as you have credits available, and each time one of your jobs gets executed you will receive back the credits you spent on it. To know the status of your credits, you can check your personal page on the IBMQ website, or use the IBM Quantum Experience API from python. Notice that you may need to install the python package `IBMQuantumExperience` by running e.g. `pip install IBMQuantumExperience` from your command line.</p>"
   ]
  },
  {
   "cell_type": "code",
   "execution_count": null,
   "metadata": {},
   "outputs": [],
   "source": [
    "from IBMQuantumExperience import IBMQuantumExperience\n",
    "api = IBMQuantumExperience(Qconfig.APItoken, config={'url':Qconfig.config[\"url\"]}, verify=True)\n",
    "api.get_my_credits()"
   ]
  },
  {
   "cell_type": "markdown",
   "metadata": {},
   "source": [
    "<p style='text-align: justify;'> You will see the maximum amount of credits that are associated to your account under the key `maxUserType` and the credits that are available at the moment with the label `remaining`.</p>"
   ]
  }
 ],
 "metadata": {
  "kernelspec": {
   "display_name": "Python 3",
   "language": "python",
   "name": "python3"
  },
  "language_info": {
   "codemirror_mode": {
    "name": "ipython",
    "version": 3
   },
   "file_extension": ".py",
   "mimetype": "text/x-python",
   "name": "python",
   "nbconvert_exporter": "python",
   "pygments_lexer": "ipython3",
   "version": "3.6.0"
  }
 },
 "nbformat": 4,
 "nbformat_minor": 2
}
